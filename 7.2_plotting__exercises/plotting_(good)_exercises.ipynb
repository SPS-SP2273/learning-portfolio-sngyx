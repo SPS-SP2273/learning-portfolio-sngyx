{
 "cells": [
  {
   "attachments": {},
   "cell_type": "markdown",
   "id": "123456",
   "metadata": {},
   "source": [
    "<div style=\"text-align:left;font-size:2em\"><span style=\"font-weight:bolder;font-size:1.25em\">SP2273 | Learning Portfolio</span><br><br><span style=\"font-weight:bold;color:darkred\">Plotting (Good) Exercises</span></div>"
   ]
  },
  {
   "cell_type": "code",
   "execution_count": 1,
   "id": "3c4feb75",
   "metadata": {},
   "outputs": [],
   "source": [
    "from matplotlib import pyplot as plt\n",
    "import numpy as np"
   ]
  },
  {
   "cell_type": "markdown",
   "id": "2af2e112",
   "metadata": {},
   "source": [
    "---\n",
    "# Exercise 1"
   ]
  },
  {
   "cell_type": "code",
   "execution_count": null,
   "id": "5a7cf5c6",
   "metadata": {},
   "outputs": [],
   "source": [
    "#--------- Generate cosine and sine values --------#\n",
    "x = np.linspace(-np.pi, np.pi, num=100, endpoint=True)\n",
    "cos_x = np.cos(x)\n",
    "sin_x = np.sin(x)\n",
    "fun1_x = np.exp(-x) * np.cos(5 * x)\n",
    "fun2_x = np.exp(-x) * np.sin(2 * x)\n",
    "\n",
    "#------- Plot the data -------#\n",
    "fig, axes = plt.subplots(nrows=2, ncols=2,\n",
    "                         figsize=(12, 8),  sharey='row')\n",
    "\n",
    "#------- Subplot 1 -------#\n",
    "axes[0, 0].plot(x, cos_x, color='r', label='$\\cos x$')\n",
    "axes[0, 0].plot(x, cos_x**2, color='r',\n",
    "                linestyle=':', label='$\\cos^2 x$')\n",
    "axes[0, 0].set_title('$\\cos x$ & $\\cos^2x$')\n",
    "axes[0, 0].set_ylabel('Cosine Value')\n",
    "axes[0, 0].fill_between(x, cos_x, -1, color='g', alpha=.125)\n",
    "axes[0, 0].set_xlabel('Angle (radians)')\n",
    "axes[0, 0].text(0, 0, 'I am [0, 0]!', fontsize=30,\n",
    "                horizontalalignment='center')\n",
    "\n",
    "#------- Subplot 2 -------#\n",
    "axes[0, 1].plot(x, sin_x, color='g', label='$\\sin x$')\n",
    "axes[0, 1].fill_between(x, cos_x, -2, color='r', alpha=.125)\n",
    "axes[0, 1].plot(x, sin_x**2, label='$\\sin^2 x$')\n",
    "axes[0, 1].set_ylabel('Cosine Value')\n",
    "axes[0, 1].set_ylim(-1.25, 1.25)\n",
    "axes[0, 1].legend(loc='lower right', frameon=False)\n",
    "axes[0, 1].text(0, 0, 'I am [0, 1]!', fontsize=30,\n",
    "                horizontalalignment='center')\n",
    "\n",
    "#------- Subplot 3 -------#\n",
    "axes[1, 0].plot(x, fun1_x, color='b', label='$e^{-x}\\cos 5x$')\n",
    "axes[1, 0].fill_between(x, fun1_x, 0, color='b', alpha=.125)\n",
    "axes[1, 0].set_title('$e^{-x}\\cos 5x$')\n",
    "axes[1, 0].set_xlabel('Angle (radians)')\n",
    "axes[1, 0].set_ylabel('Cosine Value')\n",
    "axes[1, 0].set_xticks([-np.pi, -np.pi / 2, 0, np.pi / 2, np.pi])\n",
    "axes[1, 0].set_xticklabels(['$-\\pi$', '$-\\pi/2$', '0', '$\\pi/2$', '$\\pi$'])\n",
    "axes[1, 0].legend()\n",
    "axes[1, 0].text(0, 0, 'I am [1, 0]!', fontsize=30,\n",
    "                horizontalalignment='center')\n",
    "\n",
    "#------- Subplot 4 -------#\n",
    "axes[1, 1].plot(x, fun2_x, color='y', label='$e^{-x}\\sin 2x$')\n",
    "axes[1, 1].set_title('$e^{-x}\\sin 2x$')\n",
    "axes[1, 1].fill_between(x, fun2_x, 10, color='y', alpha=.125)\n",
    "axes[1, 1].set_xticks([-np.pi, -np.pi / 2, 0, np.pi / 2, np.pi])\n",
    "axes[1, 1].legend()\n",
    "axes[1, 1].text(0, 0, 'I am [1, 1]!', fontsize=30,\n",
    "                horizontalalignment='center')\n",
    "\n",
    "# 'flatten', 'opens' the 2D array into a simple 1D array\n",
    "for a in axes.flatten():\n",
    "    a.grid(alpha=.5)\n",
    "\n",
    "# plt.tight_layout()\n",
    "plt.show(block=False)\n",
    "\n"
   ]
  }
 ],
 "metadata": {
  "kernelspec": {
   "display_name": "learning-portfolio-sngyx-1",
   "language": "python",
   "name": "python3"
  },
  "language_info": {
   "codemirror_mode": {
    "name": "ipython",
    "version": 3
   },
   "file_extension": ".py",
   "mimetype": "text/x-python",
   "name": "python",
   "nbconvert_exporter": "python",
   "pygments_lexer": "ipython3",
   "version": "3.13.5"
  },
  "toc": {
   "base_numbering": 1,
   "nav_menu": {},
   "number_sections": true,
   "sideBar": true,
   "skip_h1_title": false,
   "title_cell": "Table of Contents",
   "title_sidebar": "Contents",
   "toc_cell": false,
   "toc_position": {},
   "toc_section_display": true,
   "toc_window_display": false
  }
 },
 "nbformat": 4,
 "nbformat_minor": 5
}
