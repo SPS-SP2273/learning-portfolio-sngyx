{
 "cells": [
  {
   "attachments": {},
   "cell_type": "markdown",
   "id": "123456",
   "metadata": {},
   "source": [
    "<div style=\"text-align:left;font-size:2em\"><span style=\"font-weight:bolder;font-size:1.25em\">SP2273 | Learning Portfolio</span><br><br><span style=\"font-weight:bold;color:darkred\">Fundamentals (Need) Exercises</span></div>"
   ]
  },
  {
   "cell_type": "markdown",
   "id": "e5c507b1",
   "metadata": {},
   "source": [
    "---\n",
    "# Exercise 1\n",
    "- Functions (eg. `print()`)\n",
    "\n",
    "- Statements (eg. `if/else`, `elif`)\n",
    "\n",
    "- Imports (`import math`)\n",
    "\n",
    "- Dots to indicate ownership (`math.sqrt()`)\n",
    "\n",
    "- *Python is an interpreter*\n",
    "\n",
    "- *Python is case sensitive*\n",
    "\n",
    "- *Comments (eg. `# Needed by function()`*)\n",
    "\n",
    "- *= is not ==*\n",
    "\n",
    "- *Indentations are important*\n",
    "\n",
    "- *Strings vs variables*\n",
    "\n",
    "- *Types of brackets - () for functions and math, [] for lists, \n",
    "    {} for dictionaries*\n",
    "    \n",
    "I promise I was paying attention to the notes, I took some things for \n",
    "granted so I had to add a lot :(\n"
   ]
  },
  {
   "cell_type": "markdown",
   "id": "eafc3ad5",
   "metadata": {},
   "source": [
    "---\n",
    "# Exercise 2"
   ]
  },
  {
   "cell_type": "markdown",
   "id": "8238ca9b",
   "metadata": {
    "vscode": {
     "languageId": "plaintext"
    }
   },
   "source": [
    "Original code:"
   ]
  },
  {
   "cell_type": "code",
   "execution_count": null,
   "id": "b914967a",
   "metadata": {},
   "outputs": [],
   "source": [
    "x, y = 3, 4\n",
    "        z = sqrt(x*2 + y**2)\n",
    "    Print(x, y, z)"
   ]
  },
  {
   "cell_type": "markdown",
   "id": "7e92c266",
   "metadata": {},
   "source": [
    "Changed code:"
   ]
  },
  {
   "cell_type": "code",
   "execution_count": null,
   "id": "1b975fdc",
   "metadata": {},
   "outputs": [
    {
     "name": "stdout",
     "output_type": "stream",
     "text": [
      "3, 4, 5\n"
     ]
    }
   ],
   "source": [
    "from math import sqrt\n",
    "\n",
    "x, y = 3, 4\n",
    "z = sqrt(x**2 + y**2) # change: removed indent, changed x*2 to x**2\n",
    "print(f'{x}, {y}, {int(z)}') # change: Print to print, int(z) neater output"
   ]
  },
  {
   "cell_type": "markdown",
   "id": "0dca2446",
   "metadata": {},
   "source": [
    "---\n",
    "# Exercise 3\n",
    "\n",
    "|**#**|**Term**|**Description**|\n",
    "|----|---|--|\n",
    "| 1 | Function | A block of code that can be called to run it, can be given as arguments. |\n",
    "| 2 | Argument | Parameters given to a function. |\n",
    "| 3 | Comments | Parts of the code that are not run, used to document the code. |\n",
    "| 4 | Indentations | How far right from the left side of the screen a line of code starts, used to structure code. |\n",
    "| 5 | Packages | A module of related code that can be shared. |\n",
    "| 6 | `.` | Used to indicate that some attribute or method belongs to a certain class. |\n",
    "| 7 | `:` | Used to declare functions and classes, as well as list slicing and comprehension. |\n",
    "| 8 | `[]` | An empty list, which can be used to contain a list of items of various types. |\n",
    "| 9 | `[[],[]]` | A nested list consisting of two empty lists. |\n",
    "| 10 | `{}` | An empty dicitonary. |"
   ]
  },
  {
   "cell_type": "markdown",
   "id": "fc7e4cdb",
   "metadata": {},
   "source": [
    "---\n",
    "# Exercise 4"
   ]
  },
  {
   "cell_type": "code",
   "execution_count": 2,
   "id": "39a3424c",
   "metadata": {},
   "outputs": [
    {
     "data": {
      "text/plain": [
       "2.5"
      ]
     },
     "execution_count": 2,
     "metadata": {},
     "output_type": "execute_result"
    }
   ],
   "source": [
    "5/2 # Returns 5 divided by 2 as a float."
   ]
  },
  {
   "cell_type": "code",
   "execution_count": null,
   "id": "fa5d3883",
   "metadata": {},
   "outputs": [
    {
     "data": {
      "text/plain": [
       "2"
      ]
     },
     "execution_count": 4,
     "metadata": {},
     "output_type": "execute_result"
    }
   ],
   "source": [
    "5//2 # Returns the quotient of 5 divided by 2, as an integer."
   ]
  },
  {
   "cell_type": "code",
   "execution_count": 5,
   "id": "1de5cf93",
   "metadata": {},
   "outputs": [
    {
     "data": {
      "text/plain": [
       "1"
      ]
     },
     "execution_count": 5,
     "metadata": {},
     "output_type": "execute_result"
    }
   ],
   "source": [
    "5%2 # Returns the remainder of 5 divided by 2, as an integer."
   ]
  }
 ],
 "metadata": {
  "kernelspec": {
   "display_name": "learning-portfolio-sngyx-1",
   "language": "python",
   "name": "python3"
  },
  "language_info": {
   "codemirror_mode": {
    "name": "ipython",
    "version": 3
   },
   "file_extension": ".py",
   "mimetype": "text/x-python",
   "name": "python",
   "nbconvert_exporter": "python",
   "pygments_lexer": "ipython3",
   "version": "3.13.5"
  },
  "toc": {
   "base_numbering": 1,
   "nav_menu": {},
   "number_sections": true,
   "sideBar": true,
   "skip_h1_title": false,
   "title_cell": "Table of Contents",
   "title_sidebar": "Contents",
   "toc_cell": false,
   "toc_position": {},
   "toc_section_display": true,
   "toc_window_display": false
  }
 },
 "nbformat": 4,
 "nbformat_minor": 5
}
