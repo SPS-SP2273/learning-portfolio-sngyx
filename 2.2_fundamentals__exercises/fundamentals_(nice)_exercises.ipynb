{
 "cells": [
  {
   "cell_type": "markdown",
   "id": "0a9234fd",
   "metadata": {},
   "source": [
    "do any exercises here"
   ]
  }
 ],
 "metadata": {
  "language_info": {
   "name": "python"
  }
 },
 "nbformat": 4,
 "nbformat_minor": 5
}
