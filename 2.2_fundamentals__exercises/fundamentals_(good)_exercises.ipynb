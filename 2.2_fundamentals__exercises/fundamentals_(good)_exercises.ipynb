{
 "cells": [
  {
   "attachments": {},
   "cell_type": "markdown",
   "id": "123456",
   "metadata": {},
   "source": [
    "<div style=\"text-align:left;font-size:2em\"><span style=\"font-weight:bolder;font-size:1.25em\">SP2273 | Learning Portfolio</span><br><br><span style=\"font-weight:bold;color:darkred\">Fundamentals (Good) Exercises</span></div>"
   ]
  },
  {
   "cell_type": "markdown",
   "id": "44e999a4",
   "metadata": {},
   "source": [
    "---\n",
    "# Exercise 1"
   ]
  },
  {
   "cell_type": "markdown",
   "id": "8d1b7831",
   "metadata": {},
   "source": [
    "---\n",
    "## Task 1"
   ]
  },
  {
   "cell_type": "code",
   "execution_count": null,
   "id": "9c08b0d8",
   "metadata": {},
   "outputs": [
    {
     "name": "stdout",
     "output_type": "stream",
     "text": [
      "How you doin YX!\n"
     ]
    }
   ],
   "source": [
    "user_name = input('Hi! What is your name?') # ask for input\n",
    "print(f'How you doin {str.upper(user_name)}!') # print"
   ]
  },
  {
   "cell_type": "markdown",
   "id": "b9168aa8",
   "metadata": {},
   "source": [
    "---\n",
    "## Task 2"
   ]
  },
  {
   "cell_type": "code",
   "execution_count": null,
   "id": "207c5746",
   "metadata": {},
   "outputs": [
    {
     "name": "stdout",
     "output_type": "stream",
     "text": [
      "My name is f and I am 2.0 years old.\n"
     ]
    }
   ],
   "source": [
    "user_name = input('Hi! What is your name?') # ask for input\n",
    "user_age = input('How many years old are you?') # ask for age\n",
    "age_verified = False # for checking if age is really just a number\n",
    "\n",
    "while age_verified == False: # check if age is legit\n",
    "    try: \n",
    "        user_age = float(user_age) # attempt to make age a float\n",
    "        if user_age >= 0:\n",
    "            age_verified = True # that's a possible age (ignoring aging)\n",
    "        else: # negative number given\n",
    "            user_age = input('That is a negative number. How old are you in \\\n",
    "                             years?')\n",
    "    except Exception as e: # age could not be made a float\n",
    "        user_age = input('That is not a number. How old are you in \\\n",
    "                             years?') # oops error\n",
    "\n",
    "\n",
    "print(f'My name is {user_name} and I am {user_age} years old.')"
   ]
  },
  {
   "cell_type": "markdown",
   "id": "e736c05b",
   "metadata": {},
   "source": [
    "---\n",
    "## Task 3"
   ]
  },
  {
   "cell_type": "code",
   "execution_count": null,
   "id": "31c3ec16",
   "metadata": {},
   "outputs": [
    {
     "name": "stdout",
     "output_type": "stream",
     "text": [
      "The value of pi to 2 decimal places is: 3.14\n",
      "The value of pi to 3 decimal places is: 3.142\n",
      "The value of pi to 4 decimal places is: 3.1416\n"
     ]
    }
   ],
   "source": [
    "pi = 3.141592653589793\n",
    "\n",
    "print(f'The value of pi to 2 decimal places is: {pi:.2f}') # 2sf\n",
    "print(f'The value of pi to 3 decimal places is: {pi:.3f}') # 3sf\n",
    "print(f'The value of pi to 4 decimal places is: {pi:.4f}') # 4sf\n"
   ]
  },
  {
   "cell_type": "markdown",
   "id": "42203101",
   "metadata": {},
   "source": [
    "---\n",
    "## Task 4"
   ]
  },
  {
   "cell_type": "code",
   "execution_count": null,
   "id": "0771e863",
   "metadata": {},
   "outputs": [
    {
     "name": "stdout",
     "output_type": "stream",
     "text": [
      "Apple $ 0.99\n",
      "Banana $0.59\n",
      "Orange $ 1.29\n"
     ]
    }
   ],
   "source": [
    "# list version\n",
    "fruit_ls = ['Apple', 'Banana', 'Orange']\n",
    "price_ls = ['$ 0.99', '$0.59', '$ 1.29']\n",
    "\n",
    "for fruit in fruit_ls:\n",
    "    print(f'{fruit} {price_ls[fruit_ls.index(fruit)]}')"
   ]
  },
  {
   "cell_type": "code",
   "execution_count": 4,
   "id": "97bb72f7",
   "metadata": {},
   "outputs": [],
   "source": [
    "import numpy as np"
   ]
  },
  {
   "cell_type": "code",
   "execution_count": 23,
   "id": "12743d82",
   "metadata": {},
   "outputs": [
    {
     "name": "stdout",
     "output_type": "stream",
     "text": [
      "Apple $ 0.99\n",
      "Banana $ 0.59\n",
      "Orange $ 1.29\n"
     ]
    }
   ],
   "source": [
    "# Array version\n",
    "store_array = np.array([['Apple', 'Banana', 'Orange'],\n",
    "                     ['$ 0.99', '$ 0.59', '$ 1.29']])\n",
    "\n",
    "count = store_array[0].size\n",
    "for i in range(count):\n",
    "    print(store_array[0, i], store_array[1, i])"
   ]
  },
  {
   "cell_type": "code",
   "execution_count": 28,
   "id": "7a5528c0",
   "metadata": {},
   "outputs": [
    {
     "name": "stdout",
     "output_type": "stream",
     "text": [
      "Apple $ 0.99\n",
      "Banana $ 0.59\n",
      "Orange $ 1.29\n"
     ]
    }
   ],
   "source": [
    "# dictionary version\n",
    "fruit_dict = {'fruit': ['Apple', 'Banana', 'Orange'],\n",
    "              'prices': ['$ 0.99', '$ 0.59', '$ 1.29']}\n",
    "\n",
    "for i in range(len(fruit_dict['fruit'])):\n",
    "    print(fruit_dict['fruit'][i], fruit_dict['prices'][i])\n"
   ]
  },
  {
   "cell_type": "code",
   "execution_count": 36,
   "id": "4dd819e0",
   "metadata": {},
   "outputs": [
    {
     "name": "stdout",
     "output_type": "stream",
     "text": [
      "Apple $ 0.99\n",
      "Banana $0.59\n",
      "Orange $ 1.29\n"
     ]
    }
   ],
   "source": [
    "# zip version\n",
    "fruit_ls = ['Apple', 'Banana', 'Orange']\n",
    "price_ls = ['$ 0.99', '$0.59', '$ 1.29']\n",
    "\n",
    "zipped_fruits = zip(fruit_ls, price_ls)\n",
    "\n",
    "for fruit in zipped_fruits:\n",
    "    print(f'{fruit[0]} {fruit[1]}')"
   ]
  },
  {
   "cell_type": "markdown",
   "id": "7fa0774a",
   "metadata": {},
   "source": [
    "---\n",
    "# Exercise 2"
   ]
  },
  {
   "cell_type": "code",
   "execution_count": null,
   "id": "97a3ae9c",
   "metadata": {},
   "outputs": [
    {
     "name": "stdout",
     "output_type": "stream",
     "text": [
      "The letter grade is A.\n"
     ]
    }
   ],
   "source": [
    "num_grade = input('Please input a grade from 0-100.') # input\n",
    "grade_verified = False # for the loop\n",
    "letter_grade = str \n",
    "\n",
    "while grade_verified == False:\n",
    "    try: \n",
    "        num_grade = float(num_grade) # attempt to make grade a float\n",
    "        if 0 <= num_grade <= 34: # fail :(\n",
    "            letter_grade = 'Fail'\n",
    "            grade_verified = True # exit\n",
    "        elif 35 <= num_grade <= 49: # C\n",
    "            letter_grade = 'C'\n",
    "            grade_verified = True # exit\n",
    "        elif 50 <= num_grade <= 69: # B\n",
    "            letter_grade = 'B'\n",
    "            grade_verified = True # exit\n",
    "        elif 70 <= num_grade <= 100: # A :D\n",
    "            letter_grade = 'A'\n",
    "            grade_verified = True # exit\n",
    "        else: # out of range\n",
    "            num_grade = input('That grade is not in the range 0-100. \\\n",
    "                             Please input a grade from 0-100.')\n",
    "    except Exception as e: # grade could not be made a float\n",
    "        num_grade = input('That is not a number. Please input a grade \\\n",
    "                           from 0-100.')\n",
    "\n",
    "print(f'The letter grade is {letter_grade}.')"
   ]
  },
  {
   "cell_type": "markdown",
   "id": "6aa40772",
   "metadata": {},
   "source": [
    "---\n",
    "# Exercise 3\n",
    "Original code:"
   ]
  },
  {
   "cell_type": "code",
   "execution_count": null,
   "id": "23661c9a",
   "metadata": {},
   "outputs": [
    {
     "name": "stdout",
     "output_type": "stream",
     "text": [
      "Invalid input\n",
      "1\n"
     ]
    }
   ],
   "source": [
    "# Original code\n",
    "def factorial(n):\n",
    "    if n > 0:\n",
    "        return \"Invalid input\"\n",
    "    elif n != 0:\n",
    "        return 1\n",
    "    else:\n",
    "        result = 1\n",
    "        for number in range(1, n+1):\n",
    "            result += number\n",
    "        return result\n",
    "\n",
    "\n",
    "print(factorial(5))   # Testing, expected output: 120\n",
    "print(factorial(-1))  # Testing, expected output: Invalid input"
   ]
  },
  {
   "cell_type": "markdown",
   "id": "c6a800c0",
   "metadata": {},
   "source": [
    "Fixed code:"
   ]
  },
  {
   "cell_type": "code",
   "execution_count": null,
   "id": "573f0e0f",
   "metadata": {},
   "outputs": [
    {
     "name": "stdout",
     "output_type": "stream",
     "text": [
      "120\n",
      "Invalid input\n"
     ]
    }
   ],
   "source": [
    "# Fixed code\n",
    "def factorial(n):\n",
    "    if n < 0: # Changed from n > 0 to n < 0\n",
    "        return \"Invalid input\"\n",
    "    elif n == 0: # Changed from != to ==\n",
    "        return 1\n",
    "    else:\n",
    "        result = 1\n",
    "        for number in range(1, n+1):\n",
    "            result *= number # Changed from += to *=\n",
    "        return result\n",
    "\n",
    "\n",
    "print(factorial(5))   # Testing, expected output: 120\n",
    "print(factorial(-1))  # Testing, expected output: Invalid input"
   ]
  }
 ],
 "metadata": {
  "kernelspec": {
   "display_name": "learning-portfolio-sngyx-1",
   "language": "python",
   "name": "python3"
  },
  "language_info": {
   "codemirror_mode": {
    "name": "ipython",
    "version": 3
   },
   "file_extension": ".py",
   "mimetype": "text/x-python",
   "name": "python",
   "nbconvert_exporter": "python",
   "pygments_lexer": "ipython3",
   "version": "3.13.5"
  },
  "toc": {
   "base_numbering": 1,
   "nav_menu": {},
   "number_sections": true,
   "sideBar": true,
   "skip_h1_title": false,
   "title_cell": "Table of Contents",
   "title_sidebar": "Contents",
   "toc_cell": false,
   "toc_position": {},
   "toc_section_display": true,
   "toc_window_display": false
  }
 },
 "nbformat": 4,
 "nbformat_minor": 5
}
