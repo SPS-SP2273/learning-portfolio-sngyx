{
 "cells": [
  {
   "attachments": {},
   "cell_type": "markdown",
   "id": "123456",
   "metadata": {},
   "source": [
    "<div style=\"text-align:left;font-size:2em\"><span style=\"font-weight:bolder;font-size:1.25em\">SP2273 | Learning Portfolio</span><br><br><span style=\"font-weight:bold;color:darkred\">Storing Data (Good) Exercises</span></div>"
   ]
  },
  {
   "cell_type": "markdown",
   "id": "e989bbab",
   "metadata": {},
   "source": [
    "---\n",
    "# Exercise 1\n",
    "|**Term**|**Brief description**|\n",
    "|--|--|\n",
    "|Subsetting|Selecting elements.|\n",
    "|Indexing|Selecting one element.|\n",
    "|Slicing|Selecting a range of elements.|\n",
    "|Masking|Checking which elements meet certain criteria.|\n"
   ]
  },
  {
   "cell_type": "markdown",
   "id": "1aa2578c",
   "metadata": {},
   "source": [
    "---\n",
    "# Exercise 2"
   ]
  },
  {
   "cell_type": "code",
   "execution_count": 19,
   "id": "cc5049dd",
   "metadata": {},
   "outputs": [
    {
     "name": "stdout",
     "output_type": "stream",
     "text": [
      "[['1' 'A']\n",
      " ['3' 'C']\n",
      " ['5' 'E']\n",
      " ['7' 'G']\n",
      " ['9' 'I']]\n"
     ]
    }
   ],
   "source": [
    "import numpy as np\n",
    "np_array_2d = np.array([[1, \"A\"], [3, \"C\"], [2, \"B\"], [4, \"D\"],\n",
    "                        [5, \"E\"], [7, \"G\"], [6, \"F\"], [8, \"H\"],\n",
    "                        [10, \"J\"], [9, \"I\"]])\n",
    "\n",
    "num_array = np_array_2d[0:(np_array_2d.size), 0] # making array of numbers\n",
    "num_array = num_array.astype(int) # set entries to integers\n",
    "mask = ((num_array % 2) == 1) # make the mask\n",
    "print(np_array_2d[mask])"
   ]
  },
  {
   "cell_type": "markdown",
   "id": "99cb8d00",
   "metadata": {},
   "source": [
    "---\n",
    "# Exercise 3"
   ]
  },
  {
   "cell_type": "code",
   "execution_count": null,
   "id": "e24d6b15",
   "metadata": {},
   "outputs": [
    {
     "name": "stdout",
     "output_type": "stream",
     "text": [
      "[[ 1  0  1 -1 -1]\n",
      " [ 1 -1  1 -1 -1]\n",
      " [ 1 -1 -1  1 -1]\n",
      " [-1  1  1 -1 -1]\n",
      " [ 1 -1  1 -1  1]]\n"
     ]
    }
   ],
   "source": [
    "import numpy as np\n",
    "array = np.array([[66, 50, 57, -1, -1],\n",
    "                [92, -1, 88, -1, -1],\n",
    "                [75, -1, -1, 76, -1],\n",
    "                [-1, 51, 87, -1, -1],\n",
    "                [71, -1, 67, -1, 69]])\n",
    "\n",
    "mask_under50 = array[:, :] < 50 #mask for elements under 50\n",
    "array[mask_under50] = -1 #select elements under 50\n",
    "\n",
    "mask_above50 = array[:, :] > 50 #mask for elements over 50\n",
    "array[mask_above50] = 1 #select elements over 50\n",
    "\n",
    "mask_is50 = array[:, :] == 50 #mask for elemets equal to 50\n",
    "array[mask_is50] = 0 #select 50\n",
    "\n",
    "print(array)"
   ]
  }
 ],
 "metadata": {
  "kernelspec": {
   "display_name": "learning-portfolio-sngyx-1",
   "language": "python",
   "name": "python3"
  },
  "language_info": {
   "codemirror_mode": {
    "name": "ipython",
    "version": 3
   },
   "file_extension": ".py",
   "mimetype": "text/x-python",
   "name": "python",
   "nbconvert_exporter": "python",
   "pygments_lexer": "ipython3",
   "version": "3.13.5"
  },
  "toc": {
   "base_numbering": 1,
   "nav_menu": {},
   "number_sections": true,
   "sideBar": true,
   "skip_h1_title": false,
   "title_cell": "Table of Contents",
   "title_sidebar": "Contents",
   "toc_cell": false,
   "toc_position": {},
   "toc_section_display": true,
   "toc_window_display": false
  }
 },
 "nbformat": 4,
 "nbformat_minor": 5
}
