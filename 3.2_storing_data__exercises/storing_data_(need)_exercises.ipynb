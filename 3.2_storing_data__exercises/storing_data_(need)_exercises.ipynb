{
 "cells": [
  {
   "attachments": {},
   "cell_type": "markdown",
   "id": "123456",
   "metadata": {},
   "source": [
    "<div style=\"text-align:left;font-size:2em\"><span style=\"font-weight:bolder;font-size:1.25em\">SP2273 | Learning Portfolio</span><br><br><span style=\"font-weight:bold;color:darkred\">Storing Data (Need) Exercises</span></div>"
   ]
  },
  {
   "cell_type": "code",
   "execution_count": null,
   "id": "5f1dc15b",
   "metadata": {
    "vscode": {
     "languageId": "powershell"
    }
   },
   "outputs": [
    {
     "name": "stdout",
     "output_type": "stream",
     "text": [
      "Collecting numpy\n",
      "  Downloading numpy-2.3.2-cp313-cp313-macosx_14_0_x86_64.whl.metadata (62 kB)\n",
      "Downloading numpy-2.3.2-cp313-cp313-macosx_14_0_x86_64.whl (6.6 MB)\n",
      "\u001b[2K   \u001b[90m━━━━━━━━━━━━━━━━━━━━━━━━━━━━━━━━━━━━━━━━\u001b[0m \u001b[32m6.6/6.6 MB\u001b[0m \u001b[31m30.2 MB/s\u001b[0m  \u001b[33m0:00:00\u001b[0m eta \u001b[36m0:00:01\u001b[0m\n",
      "\u001b[?25hInstalling collected packages: numpy\n",
      "Successfully installed numpy-2.3.2\n"
     ]
    }
   ],
   "source": [
    "!pip install numpy # if needed"
   ]
  },
  {
   "cell_type": "markdown",
   "id": "6a8cc700",
   "metadata": {},
   "source": [
    "---\n",
    "# Exercise 1"
   ]
  },
  {
   "cell_type": "markdown",
   "id": "6da83b47",
   "metadata": {},
   "source": [
    "Similarities:\n",
    "1. Both can be indexed.\n",
    "\n",
    "2. Both are mutable.\n",
    "\n",
    "Differences:\n",
    "1. List elements can be of different types, while array elements cannot be.\n",
    "\n",
    "2. Operations can be done on all elements of an array by doing the operation on the array (eg. `array_name * 2` multiplies all elements by 2)\n",
    "\n",
    "A dictionary is a two-dimensional way of storing data with a paired key/value.\n"
   ]
  },
  {
   "cell_type": "markdown",
   "id": "31d04a9b",
   "metadata": {},
   "source": [
    "---\n",
    "# Exercise 2\n",
    "Original code:\n"
   ]
  },
  {
   "cell_type": "code",
   "execution_count": null,
   "id": "12c40abd",
   "metadata": {},
   "outputs": [],
   "source": [
    "# Original code:\n",
    "py_list = [\"a1\", \"b2\", \"c3\", \"d4\", \"e5\", \"f6\", \"g7\", \"h8\", \"i9\", \"j10\"]\n",
    "                    # Prints 'a1'\n",
    "                    # Prints 'c3'\n",
    "                    # Prints 'e5'\n",
    "                    # Prints 'g7'\n",
    "print(py_list[8])   # Prints 'i9'"
   ]
  },
  {
   "cell_type": "markdown",
   "id": "e3a77cb8",
   "metadata": {},
   "source": [
    "Fixed code:"
   ]
  },
  {
   "cell_type": "code",
   "execution_count": null,
   "id": "2c11a232",
   "metadata": {},
   "outputs": [
    {
     "name": "stdout",
     "output_type": "stream",
     "text": [
      "a1\n",
      "c3\n",
      "e5\n",
      "g7\n",
      "i9\n"
     ]
    }
   ],
   "source": [
    "# changed code no. 1\n",
    "py_list = [\"a1\", \"b2\", \"c3\", \"d4\", \"e5\", \"f6\", \"g7\", \"h8\", \"i9\", \"j10\"]\n",
    "print(py_list[0])   # Prints 'a1'\n",
    "print(py_list[2])   # Prints 'c3'\n",
    "print(py_list[4])   # Prints 'e5'\n",
    "print(py_list[6])   # Prints 'g7'\n",
    "print(py_list[8])   # Prints 'i9'"
   ]
  },
  {
   "cell_type": "code",
   "execution_count": null,
   "id": "e1dbfc9a",
   "metadata": {},
   "outputs": [
    {
     "name": "stdout",
     "output_type": "stream",
     "text": [
      "a1\n",
      "c3\n",
      "e5\n",
      "g7\n",
      "i9\n"
     ]
    }
   ],
   "source": [
    "# Changed code no. 2\n",
    "# my bad i didn't read instructions properly\n",
    "py_list = [\"a1\", \"b2\", \"c3\", \"d4\", \"e5\", \"f6\", \"g7\", \"h8\", \"i9\", \"j10\"]\n",
    "\n",
    "for i in py_list:\n",
    "    num = float(i[-1:]) # take last character of string\n",
    "    if num%2 == 1: # if number odd\n",
    "        print(i) # print it"
   ]
  },
  {
   "cell_type": "markdown",
   "id": "a4bb761d",
   "metadata": {},
   "source": [
    "---\n",
    "# Exercise 3"
   ]
  },
  {
   "cell_type": "code",
   "execution_count": null,
   "id": "f7873117",
   "metadata": {},
   "outputs": [
    {
     "name": "stdout",
     "output_type": "stream",
     "text": [
      "Beryllium\n",
      "Beryllium\n"
     ]
    }
   ],
   "source": [
    "elements = ['Hydrogen',\n",
    "            'Helium', 'Lithium',\n",
    "            'Beryllium', 'Boron', 'Carbon',\n",
    "            'Nitrogen', 'Oxygen',\n",
    "            'Fluorine',\n",
    "            'Neon']\n",
    "# Forward indexing\n",
    "print(elements[3]) # python starts from 0 as first element\n",
    "\n",
    "# Backward indexing\n",
    "print(elements[-7]) # 7th from the back, as back starts from -1"
   ]
  },
  {
   "cell_type": "markdown",
   "id": "1144b22d",
   "metadata": {},
   "source": [
    "---\n",
    "# Exercise 4"
   ]
  },
  {
   "cell_type": "code",
   "execution_count": null,
   "id": "2a064f91",
   "metadata": {},
   "outputs": [
    {
     "name": "stdout",
     "output_type": "stream",
     "text": [
      "9\n"
     ]
    }
   ],
   "source": [
    "import numpy as np\n",
    "numbers= np.array([45, 60, 1, 30, 96, 1, 96, 57, 16, 1,\n",
    "        99, 62, 86, 43, 42, 60, 59, 1, 1, 35,\n",
    "        83, 47, 34, 28, 68, 23, 22, 92, 1, 79,\n",
    "        1, 29, 94, 72, 46, 47, 1, 74, 32, 20,\n",
    "        8, 37, 35, 1, 89, 29, 86, 19, 43, 61])\n",
    "\n",
    "print(np.count_nonzero(numbers == 1))\n",
    "    "
   ]
  },
  {
   "cell_type": "markdown",
   "id": "910ee40c",
   "metadata": {},
   "source": [
    "---\n",
    "# Exercise 5"
   ]
  },
  {
   "cell_type": "code",
   "execution_count": null,
   "id": "12ea4671",
   "metadata": {},
   "outputs": [
    {
     "name": "stdout",
     "output_type": "stream",
     "text": [
      "x_1 mean = 38.5, standard deviation = 32.41990129534635\n",
      "x_2 mean = 302.5, standard deviation = 326.0893282522444\n",
      "Manually calculated r is 9.871796626270703\n",
      "np.corrcoef() r value: [[1.         0.98717966]\n",
      " [0.98717966 1.        ]]\n"
     ]
    }
   ],
   "source": [
    "import numpy as np\n",
    "\n",
    "# made this a function just for neatness\n",
    "def manual_r(array1: np.array, array2: np.array): \n",
    "    '''Manually calculate r.'''\n",
    "    array1_mean = np.mean(array1) # mean of array 1\n",
    "    array1_minusmean = array1 - array1_mean # making x_i - x_mean, for manual r\n",
    "    array1_std = np.std(array1) # finding standard deviation\n",
    "\n",
    "    array2_mean = np.mean(array2) # mean of array 2\n",
    "    array2_minusmean = array2 - array2_mean # making x_i - x_mean, for manual r\n",
    "    array2_std = np.std(array2) # finding standard deviation\n",
    "\n",
    "    # formula for manual r\n",
    "    r = (np.sum(\n",
    "        np.multiply(\n",
    "            array1_minusmean, array2_minusmean)))/(\n",
    "                                                    array1_std * array2_std)\n",
    "    \n",
    "    return r\n",
    "\n",
    "# Means and standard deviations\n",
    "x_1 = np.array([1, 4, 9, 16, 25, 36, 49, 64, 81, 100])\n",
    "print(f'x_1 mean = {np.mean(x_1)}, standard deviation = {np.std(x_1)}')\n",
    "\n",
    "x_2 = np.array([1, 8, 27, 64, 125, 216, 343, 512, 729, 1000])\n",
    "print(f'x_2 mean = {np.mean(x_2)}, standard deviation = {np.std(x_2)}')\n",
    "\n",
    "# Manual r\n",
    "r = manual_r(x_1, x_2)\n",
    "print(f'Manually calculated r is {r}')\n",
    "\n",
    "# np.corrcoef()\n",
    "print(f'np.corrcoef() r value: {np.corrcoef(x_1, x_2)}')"
   ]
  },
  {
   "cell_type": "markdown",
   "id": "81884d9b",
   "metadata": {},
   "source": [
    "## Output:\n",
    "x_1 mean = 38.5, standard deviation = 32.41990129534635 \\\n",
    "x_2 mean = 302.5, standard deviation = 326.0893282522444 \\\n",
    "Manually calculated r is 9.871796626270703 \\\n",
    "np.corrcoef() r value: [[1.         0.98717966] \\\n",
    " [0.98717966 1.        ]]\n",
    "\n",
    " Manually calculating *r* finds the correlation coefficient, while \n",
    " `np.corrcoef()` returns a matrix with the correlation coefficient for each\n",
    " factor."
   ]
  }
 ],
 "metadata": {
  "kernelspec": {
   "display_name": "learning-portfolio-sngyx-1",
   "language": "python",
   "name": "python3"
  },
  "language_info": {
   "codemirror_mode": {
    "name": "ipython",
    "version": 3
   },
   "file_extension": ".py",
   "mimetype": "text/x-python",
   "name": "python",
   "nbconvert_exporter": "python",
   "pygments_lexer": "ipython3",
   "version": "3.13.5"
  },
  "toc": {
   "base_numbering": 1,
   "nav_menu": {},
   "number_sections": true,
   "sideBar": true,
   "skip_h1_title": false,
   "title_cell": "Table of Contents",
   "title_sidebar": "Contents",
   "toc_cell": false,
   "toc_position": {},
   "toc_section_display": true,
   "toc_window_display": false
  }
 },
 "nbformat": 4,
 "nbformat_minor": 5
}
