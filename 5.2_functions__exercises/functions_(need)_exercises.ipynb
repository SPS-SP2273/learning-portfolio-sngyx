{
 "cells": [
  {
   "attachments": {},
   "cell_type": "markdown",
   "id": "123456",
   "metadata": {},
   "source": [
    "<div style=\"text-align:left;font-size:2em\"><span style=\"font-weight:bolder;font-size:1.25em\">SP2273 | Learning Portfolio</span><br><br><span style=\"font-weight:bold;color:darkred\">Functions (Need) Exercises</span></div>"
   ]
  },
  {
   "cell_type": "markdown",
   "id": "011ccbd4",
   "metadata": {},
   "source": [
    "---\n",
    "# Exercise 1:\n"
   ]
  },
  {
   "cell_type": "code",
   "execution_count": null,
   "id": "227dc5ca",
   "metadata": {},
   "outputs": [],
   "source": [
    "# code\n",
    "def greeting(name):\n",
    "    if name == 'Batman':\n",
    "        return 'Hello Batman! So, nice to meet you!'\n",
    "    return f'Hello {name}!'"
   ]
  },
  {
   "cell_type": "markdown",
   "id": "a2860752",
   "metadata": {},
   "source": [
    "## Explanation:\n",
    "It works because when the condition `name == 'Batman'` is met, the function returns at line 3, and when the condition is not met, it returns at line 4, so line 4 serves the same function as `else` would have."
   ]
  },
  {
   "cell_type": "markdown",
   "id": "e59647d4",
   "metadata": {},
   "source": [
    "---\n",
    "# Exercise 2:"
   ]
  },
  {
   "cell_type": "code",
   "execution_count": null,
   "id": "96f38853",
   "metadata": {},
   "outputs": [
    {
     "name": "stdout",
     "output_type": "stream",
     "text": [
      "Obese\n"
     ]
    }
   ],
   "source": [
    "def calculate_bmi(weight = float, height = float):\n",
    "    BMI_num = float\n",
    "    BMI = str\n",
    "    try:\n",
    "        BMI_num = weight/(height**2) # calculation\n",
    "\n",
    "        if BMI_num <= 0: # negative??\n",
    "            BMI = 'wait how'\n",
    "        if 0 < BMI_num < 18.5: # underweight\n",
    "            BMI = 'Underweight'\n",
    "        elif 18.5 <= BMI_num < 25: # normal\n",
    "            BMI = 'Normal weight'\n",
    "        elif 25 <= BMI_num < 30: # overweight\n",
    "            BMI = 'Overweight'\n",
    "        else: # obese\n",
    "            BMI = 'Obese'\n",
    "        return BMI # end\n",
    "    except Exception as e:\n",
    "        print(f'An error occured, please try again. \\n '\\\n",
    "              f'Error: \\n {e}')\n",
    "    \n",
    "#print(calculate_bmi(100,1.5))"
   ]
  },
  {
   "cell_type": "markdown",
   "id": "efd06a88",
   "metadata": {},
   "source": [
    "---\n",
    "# Exercise 3"
   ]
  },
  {
   "cell_type": "code",
   "execution_count": null,
   "id": "2a36bc95",
   "metadata": {},
   "outputs": [
    {
     "name": "stdout",
     "output_type": "stream",
     "text": [
      "120\n"
     ]
    }
   ],
   "source": [
    "# non-integers should fail. I really really don't want to do the non-integer\n",
    "# factorial integral (i don't have to do it right)\n",
    "\n",
    "def factorial(n = int): # input named n, as instructed\n",
    "    try:\n",
    "        result = 1 # start with 1, multiply later\n",
    "\n",
    "        if n <= 0: # no negatives or 0 allowed\n",
    "            print('Factorials are not defined for numbers <= 0.')\n",
    "            return None\n",
    "        \n",
    "        for i in range(1, n+1): # number should already be integer\n",
    "            result *= i # multiple result until number is reached\n",
    "        return result\n",
    "    except Exception as e:\n",
    "        print(f'An error occured, failed to calculate factorial. \\n' \\\n",
    "              f'Error: \\n {e}')\n",
    "\n",
    "#print(factorial(5))"
   ]
  }
 ],
 "metadata": {
  "kernelspec": {
   "display_name": "learning-portfolio-sngyx-1",
   "language": "python",
   "name": "python3"
  },
  "language_info": {
   "codemirror_mode": {
    "name": "ipython",
    "version": 3
   },
   "file_extension": ".py",
   "mimetype": "text/x-python",
   "name": "python",
   "nbconvert_exporter": "python",
   "pygments_lexer": "ipython3",
   "version": "3.13.5"
  },
  "toc": {
   "base_numbering": 1,
   "nav_menu": {},
   "number_sections": true,
   "sideBar": true,
   "skip_h1_title": false,
   "title_cell": "Table of Contents",
   "title_sidebar": "Contents",
   "toc_cell": false,
   "toc_position": {},
   "toc_section_display": true,
   "toc_window_display": false
  }
 },
 "nbformat": 4,
 "nbformat_minor": 5
}
