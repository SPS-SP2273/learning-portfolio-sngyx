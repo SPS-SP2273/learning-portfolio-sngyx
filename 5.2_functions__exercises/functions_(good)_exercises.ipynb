{
 "cells": [
  {
   "attachments": {},
   "cell_type": "markdown",
   "id": "123456",
   "metadata": {},
   "source": [
    "<div style=\"text-align:left;font-size:2em\"><span style=\"font-weight:bolder;font-size:1.25em\">SP2273 | Learning Portfolio</span><br><br><span style=\"font-weight:bold;color:darkred\">Functions (Good) Exercises</span></div>"
   ]
  },
  {
   "cell_type": "markdown",
   "id": "8c267ac8",
   "metadata": {},
   "source": [
    "---\n",
    "# Exercise 1"
   ]
  },
  {
   "cell_type": "code",
   "execution_count": 16,
   "id": "a52ee3b9",
   "metadata": {},
   "outputs": [],
   "source": [
    "def convert_celsius(temperature_celsius = float, \n",
    "                    target_scale = 'Fahrenheit'):\n",
    "    '''Convert a temperature in Celsius to Fahrenheit or Kelvin.\n",
    "    Defaults to Fahrenheit.'''\n",
    "    try:\n",
    "        output_temp = float # initialise output\n",
    "        \n",
    "        if target_scale.lower() == 'kelvin': # ignore case\n",
    "            output_temp = temperature_celsius + 273.15\n",
    "        elif target_scale.lower() == 'fahrenheit':\n",
    "            output_temp = temperature_celsius * (9/5) + 32\n",
    "        elif target_scale.lower() == 'celsius':\n",
    "            output_temp = temperature_celsius\n",
    "        else: # not in needed scales\n",
    "            print('That is not an applicable temperature scale. ' \\\n",
    "                    'Was there a mispelling?')\n",
    "            output_temp = None\n",
    "\n",
    "        return output_temp # output\n",
    "\n",
    "    except Exception as e:\n",
    "        print('An error occured: \\n' \\\n",
    "            f'Error: \\n {e}')\n",
    "\n",
    "#print(convert_celsius(0))"
   ]
  },
  {
   "cell_type": "markdown",
   "id": "0be70f44",
   "metadata": {},
   "source": [
    "---\n",
    "# Exercise 2"
   ]
  },
  {
   "cell_type": "code",
   "execution_count": 17,
   "id": "7141afcf",
   "metadata": {},
   "outputs": [],
   "source": [
    "def convert_fahrenheit(temperature_fahrenheit = float, \n",
    "                        target_scale = 'Celsius'):\n",
    "    '''Convert a temperature in Fahrenheit to Celsius or Kelvin.\n",
    "    Defaults to Celsius.'''\n",
    "    try:\n",
    "        output_temp = float # initialise output\n",
    "\n",
    "        if target_scale.lower() == 'kelvin': # ignore case\n",
    "            output_temp = (temperature_fahrenheit - 32)/1.8 + 273.15\n",
    "        elif target_scale.lower() == 'celsius':\n",
    "            output_temp = (temperature_fahrenheit - 32)/1.8\n",
    "        elif target_scale.lower() == 'fahrenheit':\n",
    "            output_temp = temperature_fahrenheit\n",
    "        else: # not in needed scales\n",
    "            print('That is not an applicable temperature scale. ' \\\n",
    "                    'Was there a mispelling?')\n",
    "            output_temp = None\n",
    "        \n",
    "        return output_temp # output\n",
    "\n",
    "    except Exception as e:\n",
    "        print('An error occured: \\n' \\\n",
    "            f'Error: \\n {e}')\n",
    "        \n",
    "#print(convert_fahrenheit(100, 'kelvin'))"
   ]
  },
  {
   "cell_type": "markdown",
   "id": "b538ec48",
   "metadata": {},
   "source": [
    "---\n",
    "# Exercise 3"
   ]
  },
  {
   "cell_type": "code",
   "execution_count": 19,
   "id": "d5642c2f",
   "metadata": {},
   "outputs": [
    {
     "name": "stdout",
     "output_type": "stream",
     "text": [
      "(-173.14999999999998, 'celsius')\n"
     ]
    }
   ],
   "source": [
    "def convert_temperature(temperature= float, \n",
    "                        source_scale = 'Celsius',\n",
    "                        target_scale = 'Fahrenheit'):\n",
    "    '''Convert a temperature between Fahrenheit, Celsius or Kelvin.\n",
    "    Defaults to Celsius -> Fahrenheit.'''\n",
    "    try:\n",
    "        output_temp = float # initialise output\n",
    "\n",
    "        if source_scale.lower() == 'celsius': # input Celsius\n",
    "            output_temp = convert_celsius(temperature,\n",
    "                                          target_scale)\n",
    "        \n",
    "        elif source_scale.lower() == 'fahrenheit': # input in Fahrenheit\n",
    "            output_temp = convert_fahrenheit(temperature,\n",
    "                                          target_scale)\n",
    "        \n",
    "        elif source_scale.lower() == 'kelvin':\n",
    "            if target_scale.lower() == 'celsius': # ignore letter case\n",
    "                output_temp = temperature - 273.15\n",
    "            elif target_scale.lower() == 'fahrenheit':\n",
    "                output_temp = ((temperature - 273.15) * 1.8) + 32\n",
    "            elif target_scale.lower() == 'kelvin':\n",
    "                output_temp = temperature\n",
    "            else: # not in needed scales\n",
    "                print('That is not an applicable temperature scale. ' \\\n",
    "                        'Was there a mispelling?')\n",
    "                output_temp = None\n",
    "\n",
    "        return output_temp, target_scale # output (track output unit)\n",
    "\n",
    "    except Exception as e:\n",
    "        print('An error occured: \\n' \\\n",
    "            f'Error: \\n {e}')\n",
    "        \n",
    "print(convert_temperature(100, 'kelvin', 'celsius'))"
   ]
  }
 ],
 "metadata": {
  "kernelspec": {
   "display_name": "learning-portfolio-sngyx-1",
   "language": "python",
   "name": "python3"
  },
  "language_info": {
   "codemirror_mode": {
    "name": "ipython",
    "version": 3
   },
   "file_extension": ".py",
   "mimetype": "text/x-python",
   "name": "python",
   "nbconvert_exporter": "python",
   "pygments_lexer": "ipython3",
   "version": "3.13.5"
  },
  "toc": {
   "base_numbering": 1,
   "nav_menu": {},
   "number_sections": true,
   "sideBar": true,
   "skip_h1_title": false,
   "title_cell": "Table of Contents",
   "title_sidebar": "Contents",
   "toc_cell": false,
   "toc_position": {},
   "toc_section_display": true,
   "toc_window_display": false
  }
 },
 "nbformat": 4,
 "nbformat_minor": 5
}
