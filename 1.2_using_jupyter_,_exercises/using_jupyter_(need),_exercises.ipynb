{
 "cells": [
  {
   "attachments": {},
   "cell_type": "markdown",
   "id": "123456",
   "metadata": {},
   "source": [
    "<div style=\"text-align:left;font-size:2em\"><span style=\"font-weight:bolder;font-size:1.25em\">SP2273 | Learning Portfolio</span><br><br><span style=\"font-weight:bold;color:darkred\">Using Jupyter (Need), Exercises</span></div>"
   ]
  },
  {
   "cell_type": "markdown",
   "id": "ce902ae2",
   "metadata": {},
   "source": [
    "---\n",
    "# Exercise 1"
   ]
  },
  {
   "attachments": {},
   "cell_type": "markdown",
   "id": "123456",
   "metadata": {},
   "source": [
    "## 1 Quadratic Equations"
   ]
  },
  {
   "attachments": {},
   "cell_type": "markdown",
   "id": "123456",
   "metadata": {},
   "source": [
    "### Introduction"
   ]
  },
  {
   "cell_type": "markdown",
   "id": "123456",
   "metadata": {},
   "source": [
    "![](https://upload.wikimedia.org/wikipedia/commons/thumb/f/f8/Polynomialdeg2.svg/300px-Polynomialdeg2.svg.png)\n",
    "\n",
    "*(Image from the [Wikipedia page on Quadratic equations](https://sps.nus.edu.sg/sp2273/docs/python_basics/01_using_jupyter/1_using-jupyter_need_exercises.html#:~:text=Wikipedia%20page%20on%20Quadratic%20equations))*\n",
    "\n",
    "The general form of a quadratic equation is:\n",
    "$$ ax^2 + bx + c =0 $$"
   ]
  },
  {
   "attachments": {},
   "cell_type": "markdown",
   "id": "123456",
   "metadata": {},
   "source": [
    "### Solutions"
   ]
  },
  {
   "cell_type": "markdown",
   "id": "123456",
   "metadata": {},
   "source": [
    "\n",
    "Provided $a \\neq 0$, we can use an elementary algebraic method called [completing the square](https://sps.nus.edu.sg/sp2273/docs/python_basics/01_using_jupyter/1_using-jupyter_need_exercises.html#:~:text=completing%20the%20square) to show that a quadratic equation has the following solution:\n",
    "$$ x = \\frac{-b \\pm \\sqrt{b^2 -4ac}}{2a} $$"
   ]
  },
  {
   "attachments": {},
   "cell_type": "markdown",
   "id": "123456",
   "metadata": {},
   "source": [
    "### Discriminant"
   ]
  },
  {
   "cell_type": "markdown",
   "id": "123456",
   "metadata": {},
   "source": [
    "The quantity $ \\Delta = b^2 -4ac$ is called the **discriminant** of the equation and decides the nature of its solutions. The table below shows the various possibilities.\n",
    "\n",
    "\n",
    "| **Discriminant** | Roots |\n",
    "|------|-----|\n",
    "| $ \\Delta = b^2 -4ac = 0$ | A single solution of $-b/(2a)$ |\n",
    "| $ \\Delta = b^2 -4ac > 0$ | Two distinct solutions |\n",
    "| $ \\Delta = b^2 -4ac <> 0$ | No real solutions; both are complex. |\n"
   ]
  },
  {
   "cell_type": "markdown",
   "id": "d9cd6c53",
   "metadata": {
    "vscode": {
     "languageId": "plaintext"
    }
   },
   "source": [
    "---\n",
    "# Exercise 2\n",
    "1. A Git **repository** is a copy of a directory stored on and accessed through Git. It is used for version control in a project, and managing editing. \n",
    "\n",
    "2. Git keeps track of **changes** in the files in our repository.\n",
    "\n",
    "3. A **commit** is when changes in a local directory are saved and prepared for pushing to the online repository.\n",
    "\n",
    "4. A **push** is when committed changes in a local directory are saved to the online repository.\n",
    "\n",
    "5. A **pull** is when the current version of the online directory is saved onto the local repository.\n",
    "\n",
    "6. **GitHub** is the platform used to manage projects stored as Git repositories. **GitHub Desktop** is an app used to perform Git functions more easily, like pushing, pullling, and cloning.\n"
   ]
  },
  {
   "cell_type": "markdown",
   "id": "55c5554c",
   "metadata": {},
   "source": [
    "---\n",
    "# Exercise 3\n",
    "## Equation 1:\n",
    "$$ \\mu = \\frac{1}{n} \\sum_{i=1}^{n} x_i $$\n",
    "## Equation 2:\n",
    "$$ \\sigma = \\sqrt{\\frac{1}{n} \\sum_{i=1}^{n} (x_i - \\mu^2} $$\n",
    "## Equation 3: \n",
    "$$ r = \\frac{\\sum_{i=1}^{n} (x_i - \\mu_X)(y_i - \\mu_Y)}{\\sqrt{\\sum_{i=1}{n}(x_i -\\mu_X)^2\\sum_{i=1}{n}(y_i - \\mu_Y)^2}} $$"
   ]
  }
 ],
 "metadata": {
  "kernelspec": {
   "display_name": "Python 3",
   "language": "python",
   "name": "python3"
  },
  "language_info": {
   "codemirror_mode": {
    "name": "ipython",
    "version": 3
   },
   "file_extension": ".py",
   "mimetype": "text/x-python",
   "name": "python",
   "nbconvert_exporter": "python",
   "pygments_lexer": "ipython3",
   "version": "3.10.6 (main, Nov 14 2022, 16:10:14) [GCC 11.3.0]"
  },
  "toc": {
   "base_numbering": 1,
   "nav_menu": {},
   "number_sections": true,
   "sideBar": true,
   "skip_h1_title": false,
   "title_cell": "Table of Contents",
   "title_sidebar": "Contents",
   "toc_cell": false,
   "toc_position": {},
   "toc_section_display": true,
   "toc_window_display": false
  },
  "vscode": {
   "interpreter": {
    "hash": "31f2aee4e71d21fbe5cf8b01ff0e069b9275f58929596ceb00d14d90e3e16cd6"
   }
  }
 },
 "nbformat": 4,
 "nbformat_minor": 5
}
