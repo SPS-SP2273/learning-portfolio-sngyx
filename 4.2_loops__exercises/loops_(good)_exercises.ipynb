{
 "cells": [
  {
   "attachments": {},
   "cell_type": "markdown",
   "id": "123456",
   "metadata": {},
   "source": [
    "<div style=\"text-align:left;font-size:2em\"><span style=\"font-weight:bolder;font-size:1.25em\">SP2273 | Learning Portfolio</span><br><br><span style=\"font-weight:bold;color:darkred\">Loops (Good) Exercises</span></div>"
   ]
  },
  {
   "cell_type": "markdown",
   "id": "8ca42d6a",
   "metadata": {},
   "source": [
    "---\n",
    "# Exercise 1"
   ]
  },
  {
   "cell_type": "code",
   "execution_count": null,
   "id": "4ee5da38",
   "metadata": {},
   "outputs": [
    {
     "name": "stdout",
     "output_type": "stream",
     "text": [
      "[1, 3, 5, 7]\n"
     ]
    }
   ],
   "source": [
    "odd_list = [] # initialise list\n",
    "for number in range(9):\n",
    "    if number%2 == 0:\n",
    "        continue # if even, skips to next loop\n",
    "    odd_list.append(number) # the number is odd, add to list\n",
    "\n",
    "print(odd_list)"
   ]
  },
  {
   "cell_type": "markdown",
   "id": "b85dfc1a",
   "metadata": {},
   "source": [
    "---\n",
    "# Exercise 2"
   ]
  },
  {
   "cell_type": "code",
   "execution_count": null,
   "id": "1d35d4d9",
   "metadata": {},
   "outputs": [
    {
     "data": {
      "text/plain": [
       "[1, 3, 5, 7]"
      ]
     },
     "execution_count": 2,
     "metadata": {},
     "output_type": "execute_result"
    }
   ],
   "source": [
    "# list comprehension: only add to list if odd\n",
    "[number for number in range(9) if number%2 == 1] "
   ]
  },
  {
   "cell_type": "markdown",
   "id": "598d5937",
   "metadata": {},
   "source": [
    "---\n",
    "# Exercise 3"
   ]
  },
  {
   "cell_type": "code",
   "execution_count": 4,
   "id": "01ab5ede",
   "metadata": {},
   "outputs": [
    {
     "name": "stdout",
     "output_type": "stream",
     "text": [
      "0.40922724999836646\n",
      "0.35159837498213165\n"
     ]
    }
   ],
   "source": [
    "import timeit\n",
    "\n",
    "ex1 = '''odd_list = []\n",
    "for number in range(9):\n",
    "    if number%2 == 0:\n",
    "        continue\n",
    "    odd_list.append(number)'''\n",
    "ex2 = '''[number for number in range(9) if number%2 == 1]'''\n",
    "\n",
    "print(timeit.timeit(ex1))\n",
    "print(timeit.timeit(ex2))\n"
   ]
  },
  {
   "cell_type": "markdown",
   "id": "65c157c1",
   "metadata": {},
   "source": [
    "## Result:\n",
    "Time taken for Exercise 1: 0.40922724999836646 \\\n",
    "Time taken for Exercise 2: 0.35159837498213165"
   ]
  },
  {
   "cell_type": "markdown",
   "id": "d4ab07c8",
   "metadata": {},
   "source": [
    "---\n",
    "# Exercise 4"
   ]
  },
  {
   "cell_type": "code",
   "execution_count": null,
   "id": "e809564b",
   "metadata": {},
   "outputs": [
    {
     "name": "stdout",
     "output_type": "stream",
     "text": [
      "The sample took 14 years to halve in amount.\n"
     ]
    }
   ],
   "source": [
    "year_counter = 0\n",
    "ini_units = 100\n",
    "\n",
    "while True: #keep looping\n",
    "    ini_units = ini_units * 0.95 #how much left in current year\n",
    "    year_counter += 1 #current year\n",
    "    if ini_units <= 50:\n",
    "        break #stop\n",
    "\n",
    "print(f'The sample took {year_counter} years to halve in amount.')"
   ]
  },
  {
   "cell_type": "markdown",
   "id": "e224a4c3",
   "metadata": {},
   "source": [
    "## Result: \n",
    "The sample took 14 years to halve in amount."
   ]
  },
  {
   "cell_type": "markdown",
   "id": "e7546582",
   "metadata": {},
   "source": [
    "---\n",
    "# Exercise 5"
   ]
  },
  {
   "cell_type": "code",
   "execution_count": 52,
   "id": "bd01587b",
   "metadata": {},
   "outputs": [
    {
     "name": "stdout",
     "output_type": "stream",
     "text": [
      "[[2016.    404.24]]\n",
      "Year: 2016, change: 3.410000000000025\n"
     ]
    }
   ],
   "source": [
    "import numpy as np\n",
    "co2_data = np.array([\n",
    "    (2000, 369.55), (2001, 371.14), (2002, 373.28), \n",
    "    (2003, 375.80), (2004, 377.52), (2005, 379.80), \n",
    "    (2006, 381.90), (2007, 383.79), (2008, 385.60), \n",
    "    (2009, 387.43), (2010, 389.90), (2011, 391.65), \n",
    "    (2012, 393.85), (2013, 396.52), (2014, 398.65),\n",
    "    (2015, 400.83), (2016, 404.24), (2017, 406.55), \n",
    "    (2018, 408.52), (2019, 411.44), (2020, 414.24)\n",
    "])\n",
    "\n",
    "co2_array = co2_data[0:(co2_data.size), 1] # making array of numbers\n",
    "co2_diff = np.diff(co2_array) # find differences\n",
    "co2_diff = np.insert(co2_diff,0,0) # make first entry 0, to match shape for mask\n",
    "#print(co2_diff)\n",
    "\n",
    "diff_mask = co2_diff >= 3 # make mask\n",
    "\n",
    "big_diff = co2_data[diff_mask] # mask main one\n",
    "co2_diff = co2_diff[diff_mask] # mask diff\n",
    "print(big_diff)\n",
    "print(f'Year: {int(big_diff[0, 0])}, change: {co2_diff[0]}')"
   ]
  }
 ],
 "metadata": {
  "kernelspec": {
   "display_name": "learning-portfolio-sngyx-1",
   "language": "python",
   "name": "python3"
  },
  "language_info": {
   "codemirror_mode": {
    "name": "ipython",
    "version": 3
   },
   "file_extension": ".py",
   "mimetype": "text/x-python",
   "name": "python",
   "nbconvert_exporter": "python",
   "pygments_lexer": "ipython3",
   "version": "3.13.5"
  },
  "toc": {
   "base_numbering": 1,
   "nav_menu": {},
   "number_sections": true,
   "sideBar": true,
   "skip_h1_title": false,
   "title_cell": "Table of Contents",
   "title_sidebar": "Contents",
   "toc_cell": false,
   "toc_position": {},
   "toc_section_display": true,
   "toc_window_display": false
  }
 },
 "nbformat": 4,
 "nbformat_minor": 5
}
