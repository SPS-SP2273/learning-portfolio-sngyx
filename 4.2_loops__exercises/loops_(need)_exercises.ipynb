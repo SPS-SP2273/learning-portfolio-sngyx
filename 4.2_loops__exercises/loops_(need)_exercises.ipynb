{
 "cells": [
  {
   "attachments": {},
   "cell_type": "markdown",
   "id": "123456",
   "metadata": {},
   "source": [
    "<div style=\"text-align:left;font-size:2em\"><span style=\"font-weight:bolder;font-size:1.25em\">SP2273 | Learning Portfolio</span><br><br><span style=\"font-weight:bold;color:darkred\">Loops (Need) Exercises</span></div>"
   ]
  },
  {
   "cell_type": "markdown",
   "id": "652c8a3f",
   "metadata": {},
   "source": [
    "---\n",
    "# Exercise 1"
   ]
  },
  {
   "cell_type": "code",
   "execution_count": null,
   "id": "9c641afd",
   "metadata": {},
   "outputs": [
    {
     "name": "stdout",
     "output_type": "stream",
     "text": [
      "Celsius: 0, Fahrenheit: 32.0\n",
      "Celsius: 5, Fahrenheit: 41.0\n",
      "Celsius: 10, Fahrenheit: 50.0\n",
      "Celsius: 15, Fahrenheit: 59.0\n",
      "Celsius: 20, Fahrenheit: 68.0\n",
      "Celsius: 25, Fahrenheit: 77.0\n",
      "Celsius: 30, Fahrenheit: 86.0\n",
      "Celsius: 35, Fahrenheit: 95.0\n",
      "Celsius: 40, Fahrenheit: 104.0\n",
      "Celsius: 45, Fahrenheit: 113.0\n",
      "Celsius: 50, Fahrenheit: 122.0\n"
     ]
    }
   ],
   "source": [
    "temperatures_celsius = [\n",
    "    0, 5, 10, 15, 20, 25,\n",
    "    30, 35, 40, 45, 50\n",
    "]\n",
    "\n",
    "temperatures_fahrenheit = []\n",
    "for temp_c in temperatures_celsius:\n",
    "    temp_f = temp_c * (9/5) + 32 # F = C * (9/5) + 32\n",
    "    temperatures_fahrenheit.append(temp_f) # record Fahrenheit temperature\n",
    "\n",
    "for i in range(len(temperatures_celsius)): # both are same length\n",
    "    print(f'Celsius: {temperatures_celsius[i]}, '\\\n",
    "            f'Fahrenheit: {temperatures_fahrenheit[i]}')"
   ]
  },
  {
   "cell_type": "markdown",
   "id": "a9e83981",
   "metadata": {},
   "source": [
    "---\n",
    "# Exercise 2"
   ]
  },
  {
   "cell_type": "code",
   "execution_count": 3,
   "id": "4c18ff27",
   "metadata": {},
   "outputs": [
    {
     "name": "stdout",
     "output_type": "stream",
     "text": [
      "1 : 1 2 3 4 5 5\n",
      "2 : 2 4 6 8 10 10\n",
      "3 : 3 6 9 12 15 15\n",
      "4 : 4 8 12 16 20 20\n",
      "5 : 5 10 15 20 25 25\n"
     ]
    }
   ],
   "source": [
    "for i in range(1,6): # big loop for the number being multiplied\n",
    "    print(f'{i} : ', end = '') # label\n",
    "\n",
    "    for j in range(1,6): # nested loop for the table\n",
    "        print(f'{i*j} ', end = '') # the multiplication table\n",
    "        if j == 5:\n",
    "            print(f'{i*j}', end = '\\n')"
   ]
  },
  {
   "cell_type": "markdown",
   "id": "5cd69ed1",
   "metadata": {},
   "source": [
    "---\n",
    "# Exercise 3"
   ]
  },
  {
   "cell_type": "code",
   "execution_count": null,
   "id": "d57066be",
   "metadata": {},
   "outputs": [
    {
     "name": "stdout",
     "output_type": "stream",
     "text": [
      "Experiment 1: Number of heads = 6\n",
      "Experiment 2: Number of heads = 6\n",
      "Experiment 3: Number of heads = 7\n",
      "Experiment 4: Number of heads = 6\n",
      "Experiment 5: Number of heads = 4\n",
      "Experiment 6: Number of heads = 5\n",
      "Experiment 7: Number of heads = 4\n",
      "Experiment 8: Number of heads = 6\n",
      "Experiment 9: Number of heads = 8\n",
      "Experiment 10: Number of heads = 4\n"
     ]
    }
   ],
   "source": [
    "import numpy as np\n",
    "\n",
    "number_of_experiments = 10\n",
    "\n",
    "for expt in range(number_of_experiments):\n",
    "    print(f'Experiment {expt+1}: ', end = '') # experiment number\n",
    "    result = np.random.rand(10) # flip 10 times\n",
    "    heads_mask = result > 0.5 # mask for heads\n",
    "    result_heads = result[heads_mask].size # count number of heads\n",
    "    print(f'Number of heads = {result_heads}') # print number of heads"
   ]
  }
 ],
 "metadata": {
  "kernelspec": {
   "display_name": "learning-portfolio-sngyx-1",
   "language": "python",
   "name": "python3"
  },
  "language_info": {
   "codemirror_mode": {
    "name": "ipython",
    "version": 3
   },
   "file_extension": ".py",
   "mimetype": "text/x-python",
   "name": "python",
   "nbconvert_exporter": "python",
   "pygments_lexer": "ipython3",
   "version": "3.13.5"
  },
  "toc": {
   "base_numbering": 1,
   "nav_menu": {},
   "number_sections": true,
   "sideBar": true,
   "skip_h1_title": false,
   "title_cell": "Table of Contents",
   "title_sidebar": "Contents",
   "toc_cell": false,
   "toc_position": {},
   "toc_section_display": true,
   "toc_window_display": false
  }
 },
 "nbformat": 4,
 "nbformat_minor": 5
}
